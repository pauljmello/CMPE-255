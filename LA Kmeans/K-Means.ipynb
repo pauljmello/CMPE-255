{
 "cells": [
  {
   "cell_type": "code",
   "execution_count": 1,
   "id": "14ad5645",
   "metadata": {},
   "outputs": [],
   "source": [
    "import numpy as np\n",
    "import pandas as pd\n",
    "import matplotlib.pyplot as plt\n",
    "from sklearn.datasets import make_blobs\n",
    "from sklearn.preprocessing import MinMaxScaler\n",
    "from sklearn.cluster import KMeans"
   ]
  },
  {
   "cell_type": "code",
   "execution_count": 2,
   "id": "3580af6f",
   "metadata": {},
   "outputs": [],
   "source": [
    "data = make_blobs(n_features = 4, cluster_std = 1.2, n_samples = 250)\n",
    "# Shapes tried for later questions (samples, feature) (250, 8), (250, 16), (500, 4), (750, 4)\n",
    "# shape should be (250, 4)\n",
    "scaler = MinMaxScaler()\n",
    "X_scaled = scaler.fit_transform(data[0])\n",
    "y = data[1]\n",
    "scores = []"
   ]
  },
  {
   "cell_type": "code",
   "execution_count": 3,
   "id": "572937a4",
   "metadata": {},
   "outputs": [
    {
     "name": "stdout",
     "output_type": "stream",
     "text": [
      "Score for number of clusters 2: -32.10062633170322\n",
      "Score for number of clusters 3: -6.546706562564019\n",
      "Score for number of clusters 4: -5.679592238662403\n",
      "Score for number of clusters 5: -4.940742256152237\n",
      "Score for number of clusters 6: -4.258857693850298\n",
      "Score for number of clusters 7: -3.9976634337498833\n",
      "Score for number of clusters 8: -3.7860228572882755\n",
      "Score for number of clusters 9: -3.589805228833533\n",
      "Score for number of clusters 10: -3.430961997671312\n",
      "Score for number of clusters 11: -3.2327601837163344\n",
      "Score for number of clusters 12: -3.1080666045682097\n",
      "Score for number of clusters 13: -3.056344319123563\n",
      "Score for number of clusters 14: -2.9416433255815266\n"
     ]
    }
   ],
   "source": [
    "num = []\n",
    "data = []\n",
    "for i in range(2,15):\n",
    "    km = KMeans(n_clusters = i, random_state = 0)\n",
    "    km.fit(X_scaled)\n",
    "    pred = km.predict(X_scaled)\n",
    "    \n",
    "    print(\"Score for number of clusters {}: {}\".format(i,km.score(X_scaled)))\n",
    "    scores.append(-km.score(X_scaled))\n",
    "    num.append(i)\n",
    "    data.append(-km.score(X_scaled))"
   ]
  },
  {
   "cell_type": "code",
   "execution_count": 4,
   "id": "e41bd5de",
   "metadata": {},
   "outputs": [
    {
     "data": {
      "image/png": "[encoded data removed]",
      "text/plain": [
       "<Figure size 640x480 with 1 Axes>"
      ]
     },
     "metadata": {},
     "output_type": "display_data"
    }
   ],
   "source": [
    "# plot scores\n",
    "plt.plot(num, data, 'o-')\n",
    "plt.title('Score vs Cluster Count')\n",
    "plt.show()"
   ]
  },
  {
   "cell_type": "code",
   "execution_count": 5,
   "id": "0b7d0c73",
   "metadata": {},
   "outputs": [],
   "source": [
    "# What is the optimal k? \n",
    "\n",
    "# The optimal K is 5, there appears to be a small elbow there."
   ]
  },
  {
   "cell_type": "code",
   "execution_count": 6,
   "id": "4d3d73b5",
   "metadata": {},
   "outputs": [],
   "source": [
    "# What happens as you increase the number of features? \n",
    "\n",
    "# Doubling the feature number resulted in the score increasing significantly. \n",
    "# It appears to distance itself from zero the more I increase the number of features."
   ]
  },
  {
   "cell_type": "code",
   "execution_count": 7,
   "id": "6fe455de",
   "metadata": {},
   "outputs": [],
   "source": [
    "# What about if you keep everything else constant and change the number of samples?\n",
    "\n",
    "# When I double the number of samples the rate of decline is far steeper.\n",
    "# The difference lies in where the scores appear to approach. With an increase in\n",
    "# the sample number comes an increase in the score."
   ]
  },
  {
   "cell_type": "code",
   "execution_count": 8,
   "id": "c3c75022",
   "metadata": {},
   "outputs": [],
   "source": [
    "# What part of the code could be optimized?\n",
    "\n",
    "# I changed the LA slightly to make a list of variables for plotting; This could be optimized.\n",
    "# Additionally, I believe we can condense the initialization of the data into the right form quicker."
   ]
  }
 ],
 "metadata": {
  "kernelspec": {
   "display_name": "Python 3 (ipykernel)",
   "language": "python",
   "name": "python3"
  },
  "language_info": {
   "codemirror_mode": {
    "name": "ipython",
    "version": 3
   },
   "file_extension": ".py",
   "mimetype": "text/x-python",
   "name": "python",
   "nbconvert_exporter": "python",
   "pygments_lexer": "ipython3",
   "version": "3.9.12"
  }
 },
 "nbformat": 4,
 "nbformat_minor": 5
}
